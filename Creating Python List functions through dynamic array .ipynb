{
 "cells": [
  {
   "cell_type": "markdown",
   "id": "1b53a449",
   "metadata": {},
   "source": [
    "## Creating our own list "
   ]
  },
  {
   "cell_type": "code",
   "execution_count": 1,
   "id": "6dbc8568",
   "metadata": {},
   "outputs": [],
   "source": [
    "import ctypes"
   ]
  },
  {
   "cell_type": "code",
   "execution_count": 2,
   "id": "ac31ce05",
   "metadata": {},
   "outputs": [],
   "source": [
    "class MyList:\n",
    "    def __init__(self):\n",
    "        self.list_capacity=1\n",
    "        self.list_size=0\n",
    "        #create a C type array with size=self.list_capacity\n",
    "        self.A = self.make_array(self.list_capacity)\n",
    "        \n",
    "    #creating function len to check length of my list     \n",
    "    def len(self):\n",
    "        return self.list_size\n",
    "    \n",
    "    #print our list \n",
    "    def __str__(self):\n",
    "        result=''\n",
    "        for i in range (self.list_size):\n",
    "            result = result + str(self.A[i]) + ','\n",
    "        return '['+ result[:-1] + ']'   #to remove last comman slice the result by [:-1 ]\n",
    "    \n",
    "    #Getting list element through its index \n",
    "    def get_item(self,index):\n",
    "        if 0<=index < self.list_size:\n",
    "            return self.A[index]\n",
    "        else:\n",
    "            return 'IndexError : Index out of range'\n",
    "    \n",
    "    # creating function append \n",
    "    def append(self,item):\n",
    "        if self.list_size==self.list_capacity :\n",
    "            self.resize(self.list_capacity*2) #resize \n",
    "        \n",
    "        #append\n",
    "        self.A[self.list_size]= item\n",
    "        self.list_size = self.list_size + 1\n",
    "        \n",
    "    def resize(self,new_capacity):\n",
    "        #create a new array with new capacity (new_capacity = 2 * list_capacity)\n",
    "        B=self.make_array(new_capacity)\n",
    "        self.list_capacity=new_capacity\n",
    "        \n",
    "        #copy the content of A to B\n",
    "        for i in range (self.list_size):\n",
    "            B[i]= self.A[i]\n",
    "            \n",
    "        #reassign \n",
    "        self.A=B\n",
    "        \n",
    "    #creating function to find an element in a list \n",
    "    def find(self,item):\n",
    "        for i in range(self.list_size):\n",
    "            if self.A[i]==item:\n",
    "                return i\n",
    "        return 'Value Error'\n",
    "    \n",
    "    \n",
    "    #Creating Pop function which return popped item from list\n",
    "    def pop(self):\n",
    "        if self.list_size==0:\n",
    "            return 'Empty list'\n",
    "        print(self.A[self.list_size-1])\n",
    "        self.list_size=self.list_size - 1\n",
    "        \n",
    "    #creating Clear function it will return empty list     \n",
    "    def clear(self):\n",
    "        self.list_size=0\n",
    "        self.list_capacity=1\n",
    "        \n",
    "    #Insert an element in list \n",
    "    def insert(self,pos,item):\n",
    "        #Check if list capacity is equal to its size firstly increase list capacity \n",
    "        if self.list_size==self.list_capacity:\n",
    "            self.resize(self.list_capacity*2)\n",
    "         \n",
    "        #shifting \n",
    "        for i in range (self.list_size, pos, -1):\n",
    "            self.A[i]=self.A[i-1]\n",
    "            \n",
    "        #place item at its position \n",
    "        self.A[pos] = item\n",
    "        self.list_size=self.list_size+1\n",
    "        \n",
    "    def remove(self,item):\n",
    "        pos= self.find(item)\n",
    "        if type(pos)==int:\n",
    "            self.__delitem__(pos)\n",
    "        else:\n",
    "            return pos\n",
    "        \n",
    "    #Function to delete a item through its position from list \n",
    "    def __delitem__(self,pos):\n",
    "        #delete a item from list \n",
    "        if 0<=pos<self.list_size:\n",
    "            for i in range (pos,self.list_size-1):\n",
    "                self.A[i] = self.A[i+1]\n",
    "            \n",
    "            self.list_size = self.list_size - 1\n",
    "        else:\n",
    "            return 'No such position in list '\n",
    "        \n",
    "    #Function to remove an element \n",
    "    \n",
    "    def make_array(self,capacity):\n",
    "        #rcreate a C type array(static , refrential) with size capacity\n",
    "        return (capacity*ctypes.py_object)()# it is not all python code in this line . It is code of c "
   ]
  },
  {
   "cell_type": "markdown",
   "id": "3e94b6a0",
   "metadata": {},
   "source": [
    "# Checking all functions "
   ]
  },
  {
   "cell_type": "code",
   "execution_count": 3,
   "id": "d97394b1",
   "metadata": {},
   "outputs": [],
   "source": [
    "#Create object of my list \n",
    "## 1.create list \n",
    "L = MyList()"
   ]
  },
  {
   "cell_type": "code",
   "execution_count": 4,
   "id": "9194f54d",
   "metadata": {},
   "outputs": [
    {
     "data": {
      "text/plain": [
       "0"
      ]
     },
     "execution_count": 4,
     "metadata": {},
     "output_type": "execute_result"
    }
   ],
   "source": [
    "#Checking length of my list\n",
    "MyList.len(L)"
   ]
  },
  {
   "cell_type": "code",
   "execution_count": 5,
   "id": "f2bcd354",
   "metadata": {},
   "outputs": [
    {
     "name": "stdout",
     "output_type": "stream",
     "text": [
      "[Hello,2.888,True,400]\n"
     ]
    }
   ],
   "source": [
    "# Checking append function \n",
    "L.append('Hello')\n",
    "L.append(2.888)\n",
    "L.append(True)\n",
    "L.append(400)\n",
    "\n",
    "#now check length and print list \n",
    "MyList.len(L)\n",
    "print(L)"
   ]
  },
  {
   "cell_type": "code",
   "execution_count": 6,
   "id": "aac36c1c",
   "metadata": {},
   "outputs": [
    {
     "name": "stdout",
     "output_type": "stream",
     "text": [
      "400\n",
      "[Hello,2.888,True]\n"
     ]
    }
   ],
   "source": [
    "# Checking pop function  \n",
    "L.pop()\n",
    "#again print list \n",
    "print(L)"
   ]
  },
  {
   "cell_type": "code",
   "execution_count": 7,
   "id": "031a6994",
   "metadata": {},
   "outputs": [
    {
     "name": "stdout",
     "output_type": "stream",
     "text": [
      "[Hello,2.888,hey,299,yes,5.88,90,56785,True]\n"
     ]
    }
   ],
   "source": [
    "L.insert(2,'hey')\n",
    "L.insert(3,'299')\n",
    "L.insert(4,'yes')\n",
    "L.insert(5,'5.88')\n",
    "L.insert(6,'90')\n",
    "L.insert(7,'56785')\n",
    "\n",
    "#Now print list to check \n",
    "print(L)"
   ]
  },
  {
   "cell_type": "code",
   "execution_count": 8,
   "id": "2669ea06",
   "metadata": {},
   "outputs": [
    {
     "name": "stdout",
     "output_type": "stream",
     "text": [
      "[Hello,2.888,299,yes,5.88,90,56785,True]\n"
     ]
    }
   ],
   "source": [
    "#Checking delete function  \n",
    "MyList.__delitem__(L,2)\n",
    "#Now print list to check \n",
    "print(L)\n"
   ]
  },
  {
   "cell_type": "code",
   "execution_count": 9,
   "id": "3ead2ea0",
   "metadata": {},
   "outputs": [
    {
     "data": {
      "text/plain": [
       "'No such position in list '"
      ]
     },
     "execution_count": 9,
     "metadata": {},
     "output_type": "execute_result"
    }
   ],
   "source": [
    "#Check if position is not present in list what will return \n",
    "MyList.__delitem__(L,200)\n"
   ]
  },
  {
   "cell_type": "code",
   "execution_count": 10,
   "id": "e5d0f068",
   "metadata": {},
   "outputs": [
    {
     "name": "stdout",
     "output_type": "stream",
     "text": [
      "[Hello,2.888,299,yes,5.88,90,56785,True]\n"
     ]
    },
    {
     "data": {
      "text/plain": [
       "1"
      ]
     },
     "execution_count": 10,
     "metadata": {},
     "output_type": "execute_result"
    }
   ],
   "source": [
    "#Check find function \n",
    "print(L)\n",
    "MyList.find(L,2.888)"
   ]
  },
  {
   "cell_type": "code",
   "execution_count": 11,
   "id": "aeb709c3",
   "metadata": {},
   "outputs": [
    {
     "data": {
      "text/plain": [
       "'IndexError : Index out of range'"
      ]
     },
     "execution_count": 11,
     "metadata": {},
     "output_type": "execute_result"
    }
   ],
   "source": [
    "#Check find function if we will give element which is not present in list \n",
    "MyList.get_item(L,67)"
   ]
  },
  {
   "cell_type": "code",
   "execution_count": 12,
   "id": "45283076",
   "metadata": {},
   "outputs": [
    {
     "data": {
      "text/plain": [
       "'299'"
      ]
     },
     "execution_count": 12,
     "metadata": {},
     "output_type": "execute_result"
    }
   ],
   "source": [
    "#Check get item function \n",
    "MyList.get_item(L,2)"
   ]
  },
  {
   "cell_type": "code",
   "execution_count": 13,
   "id": "256a5934",
   "metadata": {},
   "outputs": [
    {
     "name": "stdout",
     "output_type": "stream",
     "text": [
      "[Hello,2.888,299,yes,5.88,90,56785,True]\n",
      "[Hello,2.888,299,yes,5.88,56785,True]\n"
     ]
    }
   ],
   "source": [
    "#check remove function \n",
    "print(L)\n",
    "MyList.remove(L,\"90\")\n",
    "print(L)"
   ]
  },
  {
   "cell_type": "code",
   "execution_count": 14,
   "id": "a7479e00",
   "metadata": {},
   "outputs": [
    {
     "name": "stdout",
     "output_type": "stream",
     "text": [
      "[Hello,2.888,yes,5.88,56785,True]\n"
     ]
    }
   ],
   "source": [
    "#check delete function\n",
    "MyList.__delitem__(L,2)\n",
    "print(L)"
   ]
  },
  {
   "cell_type": "code",
   "execution_count": 15,
   "id": "4f8f9c15",
   "metadata": {},
   "outputs": [
    {
     "name": "stdout",
     "output_type": "stream",
     "text": [
      "[]\n"
     ]
    }
   ],
   "source": [
    "#check clear function \n",
    "MyList.clear(L)\n",
    "print(L)"
   ]
  },
  {
   "cell_type": "code",
   "execution_count": null,
   "id": "92b52e11",
   "metadata": {},
   "outputs": [],
   "source": []
  }
 ],
 "metadata": {
  "kernelspec": {
   "display_name": "Python 3 (ipykernel)",
   "language": "python",
   "name": "python3"
  },
  "language_info": {
   "codemirror_mode": {
    "name": "ipython",
    "version": 3
   },
   "file_extension": ".py",
   "mimetype": "text/x-python",
   "name": "python",
   "nbconvert_exporter": "python",
   "pygments_lexer": "ipython3",
   "version": "3.11.3"
  }
 },
 "nbformat": 4,
 "nbformat_minor": 5
}
